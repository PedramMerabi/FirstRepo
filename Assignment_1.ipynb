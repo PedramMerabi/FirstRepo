{
 "cells": [
  {
   "cell_type": "markdown",
   "id": "0098ad44",
   "metadata": {},
   "source": [
    "<h1>My Jupyter Notebook on IBM Watson Studio<h1>"
   ]
  },
  {
   "cell_type": "markdown",
   "id": "3dd9d3bf",
   "metadata": {},
   "source": [
    "**Pedram Mehrabi** <br>\n",
    "I would like to code and once I get tired of coding, I would like to drive. "
   ]
  },
  {
   "cell_type": "markdown",
   "id": "b5fa5b51",
   "metadata": {},
   "source": [
    "*I am interested in data science because it makes things understandable and explicable, not only for \"capitalist\" industries, but also, for those who yern to see their theoretical knowledge solving a real issue in action. It's even more interesting when you find out how useless are universities, and how easy it is to be called a \"scientist\" in our new world!!! While all other sciences are suffering from ignorance and lack of investment, this is \"investors' greed and impatience\" that decides the \"sexiest job\" of the era on our poor planet!*"
   ]
  },
  {
   "cell_type": "markdown",
   "id": "07d9cd25",
   "metadata": {},
   "source": [
    "<h3>The following code receives a list of objects and returns a list of unique objects and their recurrence number</h3>"
   ]
  },
  {
   "cell_type": "code",
   "execution_count": 20,
   "id": "2e24f2e7",
   "metadata": {},
   "outputs": [
    {
     "name": "stdout",
     "output_type": "stream",
     "text": [
      "[(1, 3), ('OK', 3), (2, 2), (3, 2), (4, 2), ('NO', 2), (0, 1), (-12.6, 1)]\n"
     ]
    }
   ],
   "source": [
    "import numpy as np\n",
    "from collections import Counter\n",
    "l=[1,2,3,4,2,3,1,1,0,4,\"OK\",'NO',\"OK\",\"NO\",-12.6,\"OK\"]\n",
    "counted=Counter(l)\n",
    "print(counted.most_common(len(list(set(l)))))"
   ]
  },
  {
   "cell_type": "markdown",
   "id": "54c2ebe2",
   "metadata": {},
   "source": [
    "***\n",
    "> <div class=\"alert alert-block alert-info\">\n",
    "<b>Tip:</b> As you can see, list items are all sorted based on their recurrences, no matter if they are sting, integer or float.\n",
    "</div>\n",
    "\n",
    "|1|OK|2|3|4|NO|0|-12.6|\n",
    "|--|--|--|--|--|--|--|--|\n",
    "|3|3|2|2|2|2|1|1\n",
    "\n",
    "* My first assignment on Jupyter Notebook\n",
    "* 15 June 2022\n",
    "* Find me on <a href=\"https://www.pedram-mehrabi.com/\" target=_blank> <b> my web site</b> </a>"
   ]
  }
 ],
 "metadata": {
  "kernelspec": {
   "display_name": "Python 3 (ipykernel)",
   "language": "python",
   "name": "python3"
  },
  "language_info": {
   "codemirror_mode": {
    "name": "ipython",
    "version": 3
   },
   "file_extension": ".py",
   "mimetype": "text/x-python",
   "name": "python",
   "nbconvert_exporter": "python",
   "pygments_lexer": "ipython3",
   "version": "3.9.0"
  }
 },
 "nbformat": 4,
 "nbformat_minor": 5
}
